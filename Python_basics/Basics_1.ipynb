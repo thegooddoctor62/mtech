{
  "nbformat": 4,
  "nbformat_minor": 0,
  "metadata": {
    "colab": {
      "provenance": []
    },
    "kernelspec": {
      "name": "python3",
      "display_name": "Python 3"
    },
    "language_info": {
      "name": "python"
    }
  },
  "cells": [
    {
      "cell_type": "code",
      "source": [
        "def calc(wt):\n",
        "    if wt < 0:\n",
        "        return \"Entered weight < 0\"\n",
        "    elif wt == 0:\n",
        "        return \"Entered weight = 0\"\n",
        "    else:\n",
        "        return f\"{wt} grams = {wt / 1000} kg\"\n",
        "\n",
        "def validate():\n",
        "    try:\n",
        "        wt = int(input(\"Enter the weight in grams: \"))\n",
        "        print(calc(wt))\n",
        "    except :\n",
        "        print(\"Invalid input! Please enter a valid integer for weight.\")\n",
        "validate()"
      ],
      "metadata": {
        "id": "BfFyIx8D80kL"
      },
      "execution_count": null,
      "outputs": []
    },
    {
      "cell_type": "code",
      "source": [
        "def calc(wt):\n",
        "    if wt < 0:\n",
        "        return \"Entered weight < 0\"\n",
        "    elif wt == 0:\n",
        "        return \"Entered weight = 0\"\n",
        "    else:\n",
        "        return f\"{wt} grams = {wt / 1000} kg\"\n",
        "\n",
        "def validate():\n",
        "    try:\n",
        "        wt = int(input(\"Enter the weight in grams: \"))\n",
        "        print(calc(wt))\n",
        "    except :\n",
        "        print(\"Invalid input! Please enter a valid integer for weight.\")\n",
        "while True:\n",
        "    validate()"
      ],
      "metadata": {
        "id": "ChstWy6Q86Xb"
      },
      "execution_count": null,
      "outputs": []
    },
    {
      "cell_type": "code",
      "execution_count": 3,
      "metadata": {
        "colab": {
          "base_uri": "https://localhost:8080/"
        },
        "id": "sBzktpLz6Zyq",
        "outputId": "96b4cbc3-5c00-40b5-844e-333676eceeae"
      },
      "outputs": [
        {
          "output_type": "stream",
          "name": "stdout",
          "text": [
            "Enter the weight in grams (or type 'exit' to quit): exit\n",
            "Exiting the program.\n"
          ]
        }
      ],
      "source": [
        "def calc(wt):\n",
        "    if wt < 0:\n",
        "        return \"Entered weight < 0\"\n",
        "    elif wt == 0:\n",
        "        return \"Entered weight = 0\"\n",
        "    else:\n",
        "        return f\"{wt} grams = {wt / 1000} kg\"\n",
        "\n",
        "def validate(user_input):\n",
        "    try:\n",
        "        wt = int(user_input)\n",
        "        print(calc(wt))\n",
        "    except ValueError:\n",
        "        print(\"Invalid input! Please enter a valid integer for weight.\")\n",
        "\n",
        "while True:\n",
        "    wt = input(\"Enter the weight in grams (or type 'exit' to quit): \")\n",
        "    if wt.lower() == \"exit\":\n",
        "        print(\"Exiting the program.\")\n",
        "        break\n",
        "    validate(wt)\n"
      ]
    }
  ]
}