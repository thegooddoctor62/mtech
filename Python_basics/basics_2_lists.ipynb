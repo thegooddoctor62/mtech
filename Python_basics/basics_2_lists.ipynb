{
  "nbformat": 4,
  "nbformat_minor": 0,
  "metadata": {
    "colab": {
      "provenance": []
    },
    "kernelspec": {
      "name": "python3",
      "display_name": "Python 3"
    },
    "language_info": {
      "name": "python"
    }
  },
  "cells": [
    {
      "cell_type": "markdown",
      "source": [
        "#Creating Lists"
      ],
      "metadata": {
        "id": "qkey69fcowHf"
      }
    },
    {
      "cell_type": "code",
      "source": [
        "# Literal\n",
        "lst = [1, 2, 3, \"a\", True]\n",
        "\n",
        "# Constructor from iterable\n",
        "lst2 = list((4, 5, 6))\n",
        "lst3 = list(\"hello\")  # ['h', 'e', 'l', 'l', 'o']\n",
        "\n",
        "# Repeated values\n",
        "lst4 = [0] * 5  # [0, 0, 0, 0, 0]\n"
      ],
      "metadata": {
        "id": "8I_Xabwqifpm"
      },
      "execution_count": 18,
      "outputs": []
    },
    {
      "cell_type": "markdown",
      "source": [
        "#Access & Slicing"
      ],
      "metadata": {
        "id": "zAKZGcmhosa3"
      }
    },
    {
      "cell_type": "code",
      "source": [
        "a = [\"apple\", \"banana\", \"cherry\", \"date\"]\n",
        "\n",
        "# Indexing\n",
        "print(a[0], a[-1])      # apple date\n",
        "\n",
        "# Slicing\n",
        "print(a[1:3])           # ['banana', 'cherry']\n",
        "print(a[:2], a[2:])     # ['apple', 'banana'] ['cherry', 'date']\n",
        "print(a[::2])           # ['apple', 'cherry']\n"
      ],
      "metadata": {
        "colab": {
          "base_uri": "https://localhost:8080/"
        },
        "id": "FgjXPgytnnPI",
        "outputId": "24186242-f3dd-4dc5-fec4-da581eaed3ff"
      },
      "execution_count": 19,
      "outputs": [
        {
          "output_type": "stream",
          "name": "stdout",
          "text": [
            "apple date\n",
            "['banana', 'cherry']\n",
            "['apple', 'banana'] ['cherry', 'date']\n",
            "['apple', 'cherry']\n"
          ]
        }
      ]
    },
    {
      "cell_type": "markdown",
      "source": [
        "#Iteration"
      ],
      "metadata": {
        "id": "W8leyk6NokCH"
      }
    },
    {
      "cell_type": "code",
      "source": [
        "for item in lst:\n",
        "    print(item)\n",
        "\n",
        "idx = 0\n",
        "while idx < len(lst):\n",
        "    print(lst[idx])\n",
        "    idx += 1\n"
      ],
      "metadata": {
        "id": "2WJeAFq5oqF2"
      },
      "execution_count": null,
      "outputs": []
    },
    {
      "cell_type": "markdown",
      "source": [
        "# List Comprehensions"
      ],
      "metadata": {
        "id": "6RnqZjOwo-YW"
      }
    },
    {
      "cell_type": "code",
      "source": [
        "# Squares\n",
        "squares = [x**2 for x in range(10)]\n",
        "\n",
        "# Conditionals\n",
        "evens = [x for x in range(10) if x % 2 == 0]\n",
        "\n",
        "# Nested loops\n",
        "pairs = [(x, y) for x in [1,2] for y in [3,4] if x != y]\n"
      ],
      "metadata": {
        "id": "3vzoYqIGpBl2"
      },
      "execution_count": null,
      "outputs": []
    },
    {
      "cell_type": "markdown",
      "source": [
        "# List Methods (Mutating In-Place)\n",
        "\n",
        "```\n",
        "# Method\tExample & Behavior\n",
        "append()\tlst.append(4) → adds 4 to end\n",
        "extend()\tlst.extend([5, 6]) → appends elements\n",
        "insert()\tlst.insert(1, \"x\") → inserts \"x\" at index 1\n",
        "pop()\t   lst.pop() → removes & returns last item\n",
        "            lst.pop(2) → removes item at index 2\n",
        "remove()\tlst.remove(\"a\") → removes first occurrence\n",
        "clear()\t lst.clear() → empties list\n",
        "index()\t lst.index(\"b\") → gives first index of \"b\"\n",
        "count()\t lst.count(2) → counts occurrences of 2\n",
        "reverse()   lst.reverse() → reverses list in place\n",
        "sort()\t  lst.sort() → sorts in place\n",
        "copy()\t  lst2 = lst.copy() → shallow copy\n",
        "```\n",
        "\n"
      ],
      "metadata": {
        "id": "e89mhfCgpEc2"
      }
    },
    {
      "cell_type": "code",
      "source": [
        "# Sample code\n",
        "lst = [3, 1, 4, 1, 5]\n",
        "\n",
        "lst.append(9)\n",
        "lst.extend([2, 6])\n",
        "lst.insert(2, 'x')\n",
        "print(lst.pop(), lst.pop(2))\n",
        "lst.remove(1)\n",
        "print(lst.index(5), lst.count(1))\n",
        "lst.reverse()\n",
        "lst.sort()\n",
        "lst2 = lst.copy()\n"
      ],
      "metadata": {
        "id": "g2Sj2LVKp9W1"
      },
      "execution_count": null,
      "outputs": []
    },
    {
      "cell_type": "markdown",
      "source": [
        "#Combining & Repetition"
      ],
      "metadata": {
        "id": "pY6uZKBgqBWt"
      }
    },
    {
      "cell_type": "code",
      "source": [
        "a = [1, 2]\n",
        "b = [3, 4]\n",
        "c = a + b        # concatenation\n",
        "a += b           # extend in-place\n"
      ],
      "metadata": {
        "id": "Xgw3pWIIqFPt"
      },
      "execution_count": null,
      "outputs": []
    },
    {
      "cell_type": "markdown",
      "source": [
        "# Utility Functions"
      ],
      "metadata": {
        "id": "oVGHxQsNqH7d"
      }
    },
    {
      "cell_type": "code",
      "source": [
        "len(lst)         # size\n",
        "min(lst), max(lst)  # minimum, maximum\n",
        "sorted(lst)      # returns a new sorted list\n"
      ],
      "metadata": {
        "id": "iwvYCVn8qNWd"
      },
      "execution_count": null,
      "outputs": []
    },
    {
      "cell_type": "markdown",
      "source": [
        "# Copying and Nested Structures"
      ],
      "metadata": {
        "id": "GPf26d7NqSQ8"
      }
    },
    {
      "cell_type": "code",
      "source": [
        "orig = [1, [2, 3], 4]\n",
        "shallow = orig.copy()  # outer copy only\n",
        "deep = import copy; copy.deepcopy(orig)\n",
        "\n",
        "# Nested access\n",
        "print(orig[1][0])       # accesses 2\n"
      ],
      "metadata": {
        "id": "1gcWgXpDqRK0"
      },
      "execution_count": null,
      "outputs": []
    },
    {
      "cell_type": "markdown",
      "source": [
        "#EXAMPLE CODE"
      ],
      "metadata": {
        "id": "qvwhQKQLqZd9"
      }
    },
    {
      "cell_type": "code",
      "source": [
        "from copy import deepcopy\n",
        "\n",
        "# 1. Create\n",
        "lst = [1, 2, 3]\n",
        "lst2 = list((4, 5, 6))\n",
        "lst3 = lst + lst2\n",
        "\n",
        "# 2. Access/Slice\n",
        "print(lst3[0], lst3[-1], lst3[2:5])\n",
        "\n",
        "# 3. Iterate\n",
        "for x in lst3:\n",
        "    print(x)\n",
        "\n",
        "# 4. Comprehension\n",
        "squares = [x**2 for x in lst3 if isinstance(x, int)]\n",
        "\n",
        "# 5. Mutate\n",
        "lst3.append(7)\n",
        "lst3.extend([8, 9])\n",
        "lst3.insert(0, 0)\n",
        "popped = lst3.pop()\n",
        "lst3.remove(2)\n",
        "print(lst3.index(5), lst3.count(3))\n",
        "lst3.reverse()\n",
        "lst3.sort()\n",
        "lst_copy = lst3.copy()\n",
        "\n",
        "# 6. Utility\n",
        "print(len(lst3), min(lst3), max(lst3), sorted(lst3, reverse=True))\n",
        "\n",
        "# 7. Copy vs deepcopy\n",
        "nested = [1, [2, 3], 4]\n",
        "shallow = nested.copy()\n",
        "deep = deepcopy(nested)\n",
        "nested[1][0] = 'changed'\n",
        "print(shallow, deep)\n"
      ],
      "metadata": {
        "colab": {
          "base_uri": "https://localhost:8080/"
        },
        "id": "hRG72YCDqbj9",
        "outputId": "6d72ae85-057d-4c9b-94d4-5ce576ad0ac1"
      },
      "execution_count": 20,
      "outputs": [
        {
          "output_type": "stream",
          "name": "stdout",
          "text": [
            "1 6 [3, 4, 5]\n",
            "1\n",
            "2\n",
            "3\n",
            "4\n",
            "5\n",
            "6\n",
            "4 1\n",
            "8 0 8 [8, 7, 6, 5, 4, 3, 1, 0]\n",
            "[1, ['changed', 3], 4] [1, [2, 3], 4]\n"
          ]
        }
      ]
    }
  ]
}